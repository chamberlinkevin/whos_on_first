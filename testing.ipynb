{
 "cells": [
  {
   "cell_type": "code",
   "execution_count": 3,
   "metadata": {},
   "outputs": [],
   "source": [
    "from abbott_and_costello import WhosOnFirstChatbot"
   ]
  },
  {
   "cell_type": "code",
   "execution_count": 4,
   "metadata": {},
   "outputs": [
    {
     "name": "stdout",
     "output_type": "stream",
     "text": [
      "User: Who's on first?\n",
      "Bot: That's right.\n",
      "\n",
      "User: What's on second?\n",
      "Bot: Yes.\n",
      "\n",
      "User: I Don't Know's on third?\n",
      "Bot: Naturally.\n",
      "\n",
      "User: Who's on first base?\n",
      "Bot: That's right.\n",
      "\n",
      "User: What's on second base?\n",
      "Bot: Yes.\n",
      "\n",
      "User: I Don't Know's on third base?\n",
      "Bot: Naturally.\n",
      "\n",
      "User: Who's playing first?\n",
      "Bot: That's right.\n",
      "\n",
      "User: What's playing second?\n",
      "Bot: Yes.\n",
      "\n",
      "User: I Don't Know's playing third?\n",
      "Bot: Naturally.\n",
      "\n",
      "User: Why?\n",
      "Bot: I don't know about that.\n",
      "\n"
     ]
    }
   ],
   "source": [
    "\n",
    "# Example usage:\n",
    "bot = WhosOnFirstChatbot()\n",
    "\n",
    "user_inputs = [\n",
    "    \"Who's on first?\",\n",
    "    \"What's on second?\",\n",
    "    \"I Don't Know's on third?\",\n",
    "    \"Who's on first base?\",\n",
    "    \"What's on second base?\",\n",
    "    \"I Don't Know's on third base?\",\n",
    "    \"Who's playing first?\",\n",
    "    \"What's playing second?\",\n",
    "    \"I Don't Know's playing third?\",\n",
    "    \"Why?\",\n",
    "]\n",
    "\n",
    "for user_input in user_inputs:\n",
    "    print(f\"User: {user_input}\")\n",
    "    print(f\"Bot: {bot.get_response(user_input)}\\n\")\n"
   ]
  }
 ],
 "metadata": {
  "kernelspec": {
   "display_name": "Python 3",
   "language": "python",
   "name": "python3"
  },
  "language_info": {
   "codemirror_mode": {
    "name": "ipython",
    "version": 3
   },
   "file_extension": ".py",
   "mimetype": "text/x-python",
   "name": "python",
   "nbconvert_exporter": "python",
   "pygments_lexer": "ipython3",
   "version": "3.10.13"
  }
 },
 "nbformat": 4,
 "nbformat_minor": 2
}
